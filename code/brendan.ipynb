{
 "cells": [
  {
   "cell_type": "markdown",
   "metadata": {},
   "source": [
    "# Abstract"
   ]
  },
  {
   "cell_type": "markdown",
   "metadata": {},
   "source": [
    "This is Brendan's EDA notebook"
   ]
  },
  {
   "cell_type": "markdown",
   "metadata": {},
   "source": [
    "## Imports"
   ]
  },
  {
   "cell_type": "code",
   "execution_count": 197,
   "metadata": {},
   "outputs": [],
   "source": [
    "import pandas as pd\n",
    "import numpy as np\n",
    "import matplotlib.pyplot as plt\n",
    "import seaborn as sns\n",
    "from sodapy import Socrata\n",
    "from sklearn.preprocessing import StandardScaler\n",
    "from sklearn.linear_model import LogisticRegression\n",
    "from sklearn.neighbors import KNeighborsClassifier\n",
    "from sklearn.model_selection import train_test_split\n",
    "from sklearn.pipeline import Pipeline, FeatureUnion\n",
    "from sklearn.base import BaseEstimator, TransformerMixin\n",
    "%matplotlib inline"
   ]
  },
  {
   "cell_type": "code",
   "execution_count": 2,
   "metadata": {},
   "outputs": [
    {
     "data": {
      "text/html": [
       "<div>\n",
       "<style scoped>\n",
       "    .dataframe tbody tr th:only-of-type {\n",
       "        vertical-align: middle;\n",
       "    }\n",
       "\n",
       "    .dataframe tbody tr th {\n",
       "        vertical-align: top;\n",
       "    }\n",
       "\n",
       "    .dataframe thead th {\n",
       "        text-align: right;\n",
       "    }\n",
       "</style>\n",
       "<table border=\"1\" class=\"dataframe\">\n",
       "  <thead>\n",
       "    <tr style=\"text-align: right;\">\n",
       "      <th></th>\n",
       "      <th>address</th>\n",
       "      <th>bbl</th>\n",
       "      <th>bin</th>\n",
       "      <th>block_id</th>\n",
       "      <th>boro_ct</th>\n",
       "      <th>borocode</th>\n",
       "      <th>boroname</th>\n",
       "      <th>brch_light</th>\n",
       "      <th>brch_other</th>\n",
       "      <th>brch_shoe</th>\n",
       "      <th>...</th>\n",
       "      <th>tree_dbh</th>\n",
       "      <th>tree_id</th>\n",
       "      <th>trnk_light</th>\n",
       "      <th>trnk_other</th>\n",
       "      <th>trunk_wire</th>\n",
       "      <th>user_type</th>\n",
       "      <th>x_sp</th>\n",
       "      <th>y_sp</th>\n",
       "      <th>zip_city</th>\n",
       "      <th>zipcode</th>\n",
       "    </tr>\n",
       "  </thead>\n",
       "  <tbody>\n",
       "    <tr>\n",
       "      <th>0</th>\n",
       "      <td>108-005 70 AVENUE</td>\n",
       "      <td>4.022210e+09</td>\n",
       "      <td>4052307.0</td>\n",
       "      <td>348711</td>\n",
       "      <td>4073900</td>\n",
       "      <td>4</td>\n",
       "      <td>Queens</td>\n",
       "      <td>No</td>\n",
       "      <td>No</td>\n",
       "      <td>No</td>\n",
       "      <td>...</td>\n",
       "      <td>3</td>\n",
       "      <td>180683</td>\n",
       "      <td>No</td>\n",
       "      <td>No</td>\n",
       "      <td>No</td>\n",
       "      <td>TreesCount Staff</td>\n",
       "      <td>1027431.148</td>\n",
       "      <td>202756.7687</td>\n",
       "      <td>Forest Hills</td>\n",
       "      <td>11375</td>\n",
       "    </tr>\n",
       "    <tr>\n",
       "      <th>1</th>\n",
       "      <td>147-074 7 AVENUE</td>\n",
       "      <td>4.044750e+09</td>\n",
       "      <td>4101931.0</td>\n",
       "      <td>315986</td>\n",
       "      <td>4097300</td>\n",
       "      <td>4</td>\n",
       "      <td>Queens</td>\n",
       "      <td>No</td>\n",
       "      <td>No</td>\n",
       "      <td>No</td>\n",
       "      <td>...</td>\n",
       "      <td>21</td>\n",
       "      <td>200540</td>\n",
       "      <td>No</td>\n",
       "      <td>No</td>\n",
       "      <td>No</td>\n",
       "      <td>TreesCount Staff</td>\n",
       "      <td>1034455.701</td>\n",
       "      <td>228644.8374</td>\n",
       "      <td>Whitestone</td>\n",
       "      <td>11357</td>\n",
       "    </tr>\n",
       "    <tr>\n",
       "      <th>2</th>\n",
       "      <td>390 MORGAN AVENUE</td>\n",
       "      <td>3.028870e+09</td>\n",
       "      <td>3338310.0</td>\n",
       "      <td>218365</td>\n",
       "      <td>3044900</td>\n",
       "      <td>3</td>\n",
       "      <td>Brooklyn</td>\n",
       "      <td>No</td>\n",
       "      <td>No</td>\n",
       "      <td>No</td>\n",
       "      <td>...</td>\n",
       "      <td>3</td>\n",
       "      <td>204026</td>\n",
       "      <td>No</td>\n",
       "      <td>No</td>\n",
       "      <td>No</td>\n",
       "      <td>Volunteer</td>\n",
       "      <td>1001822.831</td>\n",
       "      <td>200716.8913</td>\n",
       "      <td>Brooklyn</td>\n",
       "      <td>11211</td>\n",
       "    </tr>\n",
       "    <tr>\n",
       "      <th>3</th>\n",
       "      <td>1027 GRAND STREET</td>\n",
       "      <td>3.029250e+09</td>\n",
       "      <td>3338342.0</td>\n",
       "      <td>217969</td>\n",
       "      <td>3044900</td>\n",
       "      <td>3</td>\n",
       "      <td>Brooklyn</td>\n",
       "      <td>No</td>\n",
       "      <td>No</td>\n",
       "      <td>No</td>\n",
       "      <td>...</td>\n",
       "      <td>10</td>\n",
       "      <td>204337</td>\n",
       "      <td>No</td>\n",
       "      <td>No</td>\n",
       "      <td>No</td>\n",
       "      <td>Volunteer</td>\n",
       "      <td>1002420.358</td>\n",
       "      <td>199244.2531</td>\n",
       "      <td>Brooklyn</td>\n",
       "      <td>11211</td>\n",
       "    </tr>\n",
       "    <tr>\n",
       "      <th>4</th>\n",
       "      <td>603 6 STREET</td>\n",
       "      <td>3.010850e+09</td>\n",
       "      <td>3025654.0</td>\n",
       "      <td>223043</td>\n",
       "      <td>3016500</td>\n",
       "      <td>3</td>\n",
       "      <td>Brooklyn</td>\n",
       "      <td>No</td>\n",
       "      <td>No</td>\n",
       "      <td>No</td>\n",
       "      <td>...</td>\n",
       "      <td>21</td>\n",
       "      <td>189565</td>\n",
       "      <td>No</td>\n",
       "      <td>No</td>\n",
       "      <td>No</td>\n",
       "      <td>Volunteer</td>\n",
       "      <td>990913.775</td>\n",
       "      <td>182202.4260</td>\n",
       "      <td>Brooklyn</td>\n",
       "      <td>11215</td>\n",
       "    </tr>\n",
       "  </tbody>\n",
       "</table>\n",
       "<p>5 rows × 45 columns</p>\n",
       "</div>"
      ],
      "text/plain": [
       "             address           bbl        bin  block_id  boro_ct  borocode  \\\n",
       "0  108-005 70 AVENUE  4.022210e+09  4052307.0    348711  4073900         4   \n",
       "1   147-074 7 AVENUE  4.044750e+09  4101931.0    315986  4097300         4   \n",
       "2  390 MORGAN AVENUE  3.028870e+09  3338310.0    218365  3044900         3   \n",
       "3  1027 GRAND STREET  3.029250e+09  3338342.0    217969  3044900         3   \n",
       "4       603 6 STREET  3.010850e+09  3025654.0    223043  3016500         3   \n",
       "\n",
       "   boroname brch_light brch_other brch_shoe  ...  tree_dbh  tree_id  \\\n",
       "0    Queens         No         No        No  ...         3   180683   \n",
       "1    Queens         No         No        No  ...        21   200540   \n",
       "2  Brooklyn         No         No        No  ...         3   204026   \n",
       "3  Brooklyn         No         No        No  ...        10   204337   \n",
       "4  Brooklyn         No         No        No  ...        21   189565   \n",
       "\n",
       "   trnk_light  trnk_other trunk_wire         user_type         x_sp  \\\n",
       "0          No          No         No  TreesCount Staff  1027431.148   \n",
       "1          No          No         No  TreesCount Staff  1034455.701   \n",
       "2          No          No         No         Volunteer  1001822.831   \n",
       "3          No          No         No         Volunteer  1002420.358   \n",
       "4          No          No         No         Volunteer   990913.775   \n",
       "\n",
       "          y_sp      zip_city  zipcode  \n",
       "0  202756.7687  Forest Hills    11375  \n",
       "1  228644.8374    Whitestone    11357  \n",
       "2  200716.8913      Brooklyn    11211  \n",
       "3  199244.2531      Brooklyn    11211  \n",
       "4  182202.4260      Brooklyn    11215  \n",
       "\n",
       "[5 rows x 45 columns]"
      ]
     },
     "execution_count": 2,
     "metadata": {},
     "output_type": "execute_result"
    }
   ],
   "source": [
    "tree_df = pd.read_csv(\"../data/tree.csv\")\n",
    "tree_df.head()"
   ]
  },
  {
   "cell_type": "code",
   "execution_count": 4,
   "metadata": {},
   "outputs": [
    {
     "data": {
      "text/html": [
       "<div>\n",
       "<style scoped>\n",
       "    .dataframe tbody tr th:only-of-type {\n",
       "        vertical-align: middle;\n",
       "    }\n",
       "\n",
       "    .dataframe tbody tr th {\n",
       "        vertical-align: top;\n",
       "    }\n",
       "\n",
       "    .dataframe thead th {\n",
       "        text-align: right;\n",
       "    }\n",
       "</style>\n",
       "<table border=\"1\" class=\"dataframe\">\n",
       "  <thead>\n",
       "    <tr style=\"text-align: right;\">\n",
       "      <th></th>\n",
       "      <th>age</th>\n",
       "      <th>borough</th>\n",
       "      <th>breed</th>\n",
       "      <th>dateofbite</th>\n",
       "      <th>gender</th>\n",
       "      <th>spayneuter</th>\n",
       "      <th>species</th>\n",
       "      <th>uniqueid</th>\n",
       "      <th>zipcode</th>\n",
       "    </tr>\n",
       "  </thead>\n",
       "  <tbody>\n",
       "    <tr>\n",
       "      <th>0</th>\n",
       "      <td>3</td>\n",
       "      <td>Brooklyn</td>\n",
       "      <td>Poodle, Standard</td>\n",
       "      <td>2015-01-02T00:00:00.000</td>\n",
       "      <td>M</td>\n",
       "      <td>True</td>\n",
       "      <td>DOG</td>\n",
       "      <td>1</td>\n",
       "      <td>11238</td>\n",
       "    </tr>\n",
       "    <tr>\n",
       "      <th>1</th>\n",
       "      <td>NaN</td>\n",
       "      <td>Brooklyn</td>\n",
       "      <td>HUSKY</td>\n",
       "      <td>2015-01-02T00:00:00.000</td>\n",
       "      <td>U</td>\n",
       "      <td>False</td>\n",
       "      <td>DOG</td>\n",
       "      <td>2</td>\n",
       "      <td>11249</td>\n",
       "    </tr>\n",
       "    <tr>\n",
       "      <th>2</th>\n",
       "      <td>NaN</td>\n",
       "      <td>Brooklyn</td>\n",
       "      <td>NaN</td>\n",
       "      <td>2015-01-02T00:00:00.000</td>\n",
       "      <td>U</td>\n",
       "      <td>False</td>\n",
       "      <td>DOG</td>\n",
       "      <td>3</td>\n",
       "      <td>NaN</td>\n",
       "    </tr>\n",
       "    <tr>\n",
       "      <th>3</th>\n",
       "      <td>6</td>\n",
       "      <td>Brooklyn</td>\n",
       "      <td>American Pit Bull Terrier/Pit Bull</td>\n",
       "      <td>2015-01-01T00:00:00.000</td>\n",
       "      <td>M</td>\n",
       "      <td>False</td>\n",
       "      <td>DOG</td>\n",
       "      <td>4</td>\n",
       "      <td>11221</td>\n",
       "    </tr>\n",
       "    <tr>\n",
       "      <th>4</th>\n",
       "      <td>1</td>\n",
       "      <td>Brooklyn</td>\n",
       "      <td>American Pit Bull Terrier/Pit Bull</td>\n",
       "      <td>2015-01-03T00:00:00.000</td>\n",
       "      <td>M</td>\n",
       "      <td>False</td>\n",
       "      <td>DOG</td>\n",
       "      <td>5</td>\n",
       "      <td>11207</td>\n",
       "    </tr>\n",
       "  </tbody>\n",
       "</table>\n",
       "</div>"
      ],
      "text/plain": [
       "   age   borough                               breed               dateofbite  \\\n",
       "0    3  Brooklyn                    Poodle, Standard  2015-01-02T00:00:00.000   \n",
       "1  NaN  Brooklyn                               HUSKY  2015-01-02T00:00:00.000   \n",
       "2  NaN  Brooklyn                                 NaN  2015-01-02T00:00:00.000   \n",
       "3    6  Brooklyn  American Pit Bull Terrier/Pit Bull  2015-01-01T00:00:00.000   \n",
       "4    1  Brooklyn  American Pit Bull Terrier/Pit Bull  2015-01-03T00:00:00.000   \n",
       "\n",
       "  gender  spayneuter species  uniqueid zipcode  \n",
       "0      M        True     DOG         1   11238  \n",
       "1      U       False     DOG         2   11249  \n",
       "2      U       False     DOG         3     NaN  \n",
       "3      M       False     DOG         4   11221  \n",
       "4      M       False     DOG         5   11207  "
      ]
     },
     "execution_count": 4,
     "metadata": {},
     "output_type": "execute_result"
    }
   ],
   "source": [
    "dog_bite_df = pd.read_csv(\"../data/dog_bite.csv\")\n",
    "dog_bite_df.head()"
   ]
  },
  {
   "cell_type": "code",
   "execution_count": 10,
   "metadata": {},
   "outputs": [
    {
     "data": {
      "text/html": [
       "<div>\n",
       "<style scoped>\n",
       "    .dataframe tbody tr th:only-of-type {\n",
       "        vertical-align: middle;\n",
       "    }\n",
       "\n",
       "    .dataframe tbody tr th {\n",
       "        vertical-align: top;\n",
       "    }\n",
       "\n",
       "    .dataframe thead th {\n",
       "        text-align: right;\n",
       "    }\n",
       "</style>\n",
       "<table border=\"1\" class=\"dataframe\">\n",
       "  <thead>\n",
       "    <tr style=\"text-align: right;\">\n",
       "      <th></th>\n",
       "      <th>animalbirth</th>\n",
       "      <th>animalgender</th>\n",
       "      <th>animalname</th>\n",
       "      <th>borough</th>\n",
       "      <th>breedname</th>\n",
       "      <th>censustract2010</th>\n",
       "      <th>citycouncildistrict</th>\n",
       "      <th>communitydistrict</th>\n",
       "      <th>congressionaldistrict</th>\n",
       "      <th>licenseexpireddate</th>\n",
       "      <th>licenseissueddate</th>\n",
       "      <th>nta</th>\n",
       "      <th>rownumber</th>\n",
       "      <th>statesenatorialdistrict</th>\n",
       "      <th>zipcode</th>\n",
       "    </tr>\n",
       "  </thead>\n",
       "  <tbody>\n",
       "    <tr>\n",
       "      <th>0</th>\n",
       "      <td>2013-05-01T00:00:00.000</td>\n",
       "      <td>F</td>\n",
       "      <td>BONITA</td>\n",
       "      <td>Queens</td>\n",
       "      <td>Unknown</td>\n",
       "      <td>208.0</td>\n",
       "      <td>28.0</td>\n",
       "      <td>412.0</td>\n",
       "      <td>5.0</td>\n",
       "      <td>2017-11-15T00:00:00.000</td>\n",
       "      <td>2014-10-24T00:00:00.000</td>\n",
       "      <td>QN61</td>\n",
       "      <td>533</td>\n",
       "      <td>10.0</td>\n",
       "      <td>11435.0</td>\n",
       "    </tr>\n",
       "    <tr>\n",
       "      <th>1</th>\n",
       "      <td>2014-05-01T00:00:00.000</td>\n",
       "      <td>M</td>\n",
       "      <td>ROCKY</td>\n",
       "      <td>Queens</td>\n",
       "      <td>Labrador Retriever Crossbreed</td>\n",
       "      <td>100801.0</td>\n",
       "      <td>31.0</td>\n",
       "      <td>414.0</td>\n",
       "      <td>5.0</td>\n",
       "      <td>2019-10-25T00:00:00.000</td>\n",
       "      <td>2014-10-25T00:00:00.000</td>\n",
       "      <td>QN15</td>\n",
       "      <td>548</td>\n",
       "      <td>10.0</td>\n",
       "      <td>11691.0</td>\n",
       "    </tr>\n",
       "    <tr>\n",
       "      <th>2</th>\n",
       "      <td>2010-07-01T00:00:00.000</td>\n",
       "      <td>M</td>\n",
       "      <td>BULLY</td>\n",
       "      <td>Queens</td>\n",
       "      <td>American Pit Bull Terrier/Pit Bull</td>\n",
       "      <td>98.0</td>\n",
       "      <td>28.0</td>\n",
       "      <td>410.0</td>\n",
       "      <td>5.0</td>\n",
       "      <td>2016-09-24T00:00:00.000</td>\n",
       "      <td>2014-10-28T00:00:00.000</td>\n",
       "      <td>QN55</td>\n",
       "      <td>622</td>\n",
       "      <td>10.0</td>\n",
       "      <td>11419.0</td>\n",
       "    </tr>\n",
       "    <tr>\n",
       "      <th>3</th>\n",
       "      <td>2005-02-01T00:00:00.000</td>\n",
       "      <td>M</td>\n",
       "      <td>COCO</td>\n",
       "      <td>Queens</td>\n",
       "      <td>Labrador Retriever</td>\n",
       "      <td>964.0</td>\n",
       "      <td>31.0</td>\n",
       "      <td>414.0</td>\n",
       "      <td>5.0</td>\n",
       "      <td>2017-10-29T00:00:00.000</td>\n",
       "      <td>2014-10-29T00:00:00.000</td>\n",
       "      <td>QN12</td>\n",
       "      <td>633</td>\n",
       "      <td>10.0</td>\n",
       "      <td>11692.0</td>\n",
       "    </tr>\n",
       "    <tr>\n",
       "      <th>4</th>\n",
       "      <td>2012-09-01T00:00:00.000</td>\n",
       "      <td>F</td>\n",
       "      <td>SKI</td>\n",
       "      <td>Queens</td>\n",
       "      <td>American Pit Bull Terrier/Pit Bull</td>\n",
       "      <td>100802.0</td>\n",
       "      <td>31.0</td>\n",
       "      <td>414.0</td>\n",
       "      <td>5.0</td>\n",
       "      <td>2019-10-31T00:00:00.000</td>\n",
       "      <td>2014-10-31T00:00:00.000</td>\n",
       "      <td>QN15</td>\n",
       "      <td>655</td>\n",
       "      <td>10.0</td>\n",
       "      <td>11691.0</td>\n",
       "    </tr>\n",
       "  </tbody>\n",
       "</table>\n",
       "</div>"
      ],
      "text/plain": [
       "               animalbirth animalgender animalname borough  \\\n",
       "0  2013-05-01T00:00:00.000            F    BONITA   Queens   \n",
       "1  2014-05-01T00:00:00.000            M      ROCKY  Queens   \n",
       "2  2010-07-01T00:00:00.000            M      BULLY  Queens   \n",
       "3  2005-02-01T00:00:00.000            M      COCO   Queens   \n",
       "4  2012-09-01T00:00:00.000            F       SKI   Queens   \n",
       "\n",
       "                            breedname  censustract2010  citycouncildistrict  \\\n",
       "0                             Unknown            208.0                 28.0   \n",
       "1       Labrador Retriever Crossbreed         100801.0                 31.0   \n",
       "2  American Pit Bull Terrier/Pit Bull             98.0                 28.0   \n",
       "3                  Labrador Retriever            964.0                 31.0   \n",
       "4  American Pit Bull Terrier/Pit Bull         100802.0                 31.0   \n",
       "\n",
       "   communitydistrict  congressionaldistrict       licenseexpireddate  \\\n",
       "0              412.0                    5.0  2017-11-15T00:00:00.000   \n",
       "1              414.0                    5.0  2019-10-25T00:00:00.000   \n",
       "2              410.0                    5.0  2016-09-24T00:00:00.000   \n",
       "3              414.0                    5.0  2017-10-29T00:00:00.000   \n",
       "4              414.0                    5.0  2019-10-31T00:00:00.000   \n",
       "\n",
       "         licenseissueddate   nta  rownumber  statesenatorialdistrict  zipcode  \n",
       "0  2014-10-24T00:00:00.000  QN61        533                     10.0  11435.0  \n",
       "1  2014-10-25T00:00:00.000  QN15        548                     10.0  11691.0  \n",
       "2  2014-10-28T00:00:00.000  QN55        622                     10.0  11419.0  \n",
       "3  2014-10-29T00:00:00.000  QN12        633                     10.0  11692.0  \n",
       "4  2014-10-31T00:00:00.000  QN15        655                     10.0  11691.0  "
      ]
     },
     "execution_count": 10,
     "metadata": {},
     "output_type": "execute_result"
    }
   ],
   "source": [
    "dog_license_df = pd.read_csv(\"../data/dog_license.csv\")\n",
    "dog_license_df.head()"
   ]
  },
  {
   "cell_type": "markdown",
   "metadata": {},
   "source": [
    "## Combining Data"
   ]
  },
  {
   "cell_type": "markdown",
   "metadata": {},
   "source": [
    "Here I will group dogs by zip code to figure out a population for each zip code, and then use this value to figure out how many dog licenses are near each tree in our dataframe"
   ]
  },
  {
   "cell_type": "markdown",
   "metadata": {},
   "source": [
    "### Extract ZIP info"
   ]
  },
  {
   "cell_type": "code",
   "execution_count": 17,
   "metadata": {},
   "outputs": [],
   "source": [
    "zip_df = dog_license_df.groupby(\"zipcode\").describe()"
   ]
  },
  {
   "cell_type": "code",
   "execution_count": 28,
   "metadata": {},
   "outputs": [],
   "source": [
    "zip_df = zip_df[\"statesenatorialdistrict\"][[\"count\"]]"
   ]
  },
  {
   "cell_type": "code",
   "execution_count": 29,
   "metadata": {},
   "outputs": [
    {
     "data": {
      "text/html": [
       "<div>\n",
       "<style scoped>\n",
       "    .dataframe tbody tr th:only-of-type {\n",
       "        vertical-align: middle;\n",
       "    }\n",
       "\n",
       "    .dataframe tbody tr th {\n",
       "        vertical-align: top;\n",
       "    }\n",
       "\n",
       "    .dataframe thead th {\n",
       "        text-align: right;\n",
       "    }\n",
       "</style>\n",
       "<table border=\"1\" class=\"dataframe\">\n",
       "  <thead>\n",
       "    <tr style=\"text-align: right;\">\n",
       "      <th></th>\n",
       "      <th>count</th>\n",
       "    </tr>\n",
       "    <tr>\n",
       "      <th>zipcode</th>\n",
       "      <th></th>\n",
       "    </tr>\n",
       "  </thead>\n",
       "  <tbody>\n",
       "    <tr>\n",
       "      <th>121.0</th>\n",
       "      <td>0.0</td>\n",
       "    </tr>\n",
       "    <tr>\n",
       "      <th>1003.0</th>\n",
       "      <td>0.0</td>\n",
       "    </tr>\n",
       "    <tr>\n",
       "      <th>1175.0</th>\n",
       "      <td>0.0</td>\n",
       "    </tr>\n",
       "    <tr>\n",
       "      <th>7013.0</th>\n",
       "      <td>0.0</td>\n",
       "    </tr>\n",
       "    <tr>\n",
       "      <th>7030.0</th>\n",
       "      <td>0.0</td>\n",
       "    </tr>\n",
       "  </tbody>\n",
       "</table>\n",
       "</div>"
      ],
      "text/plain": [
       "         count\n",
       "zipcode       \n",
       "121.0      0.0\n",
       "1003.0     0.0\n",
       "1175.0     0.0\n",
       "7013.0     0.0\n",
       "7030.0     0.0"
      ]
     },
     "execution_count": 29,
     "metadata": {},
     "output_type": "execute_result"
    }
   ],
   "source": [
    "zip_df.head()"
   ]
  },
  {
   "cell_type": "markdown",
   "metadata": {},
   "source": [
    "### Cross referencing"
   ]
  },
  {
   "cell_type": "code",
   "execution_count": 30,
   "metadata": {},
   "outputs": [],
   "source": [
    "lic_dict = {key : value for key,value in zip(zip_df.index,zip_df[\"count\"])}\n",
    "tree_df[\"dogs_near_tree\"] = tree_df.zipcode.map(lic_dict)"
   ]
  },
  {
   "cell_type": "code",
   "execution_count": 88,
   "metadata": {},
   "outputs": [],
   "source": [
    "tree_df.to_csv(\"../data/tree.csv\",index=False)"
   ]
  },
  {
   "cell_type": "code",
   "execution_count": 89,
   "metadata": {},
   "outputs": [
    {
     "data": {
      "text/html": [
       "<div>\n",
       "<style scoped>\n",
       "    .dataframe tbody tr th:only-of-type {\n",
       "        vertical-align: middle;\n",
       "    }\n",
       "\n",
       "    .dataframe tbody tr th {\n",
       "        vertical-align: top;\n",
       "    }\n",
       "\n",
       "    .dataframe thead th {\n",
       "        text-align: right;\n",
       "    }\n",
       "</style>\n",
       "<table border=\"1\" class=\"dataframe\">\n",
       "  <thead>\n",
       "    <tr style=\"text-align: right;\">\n",
       "      <th></th>\n",
       "      <th>address</th>\n",
       "      <th>bbl</th>\n",
       "      <th>bin</th>\n",
       "      <th>block_id</th>\n",
       "      <th>boro_ct</th>\n",
       "      <th>borocode</th>\n",
       "      <th>boroname</th>\n",
       "      <th>brch_light</th>\n",
       "      <th>brch_other</th>\n",
       "      <th>brch_shoe</th>\n",
       "      <th>...</th>\n",
       "      <th>trnk_other</th>\n",
       "      <th>trunk_wire</th>\n",
       "      <th>user_type</th>\n",
       "      <th>x_sp</th>\n",
       "      <th>y_sp</th>\n",
       "      <th>zip_city</th>\n",
       "      <th>zipcode</th>\n",
       "      <th>dogs_near_tree</th>\n",
       "      <th>dogs_in_zip_clusters</th>\n",
       "      <th>truncated_zip</th>\n",
       "    </tr>\n",
       "  </thead>\n",
       "  <tbody>\n",
       "    <tr>\n",
       "      <th>0</th>\n",
       "      <td>108-005 70 AVENUE</td>\n",
       "      <td>4.022210e+09</td>\n",
       "      <td>4052307.0</td>\n",
       "      <td>348711</td>\n",
       "      <td>4073900</td>\n",
       "      <td>4</td>\n",
       "      <td>Queens</td>\n",
       "      <td>No</td>\n",
       "      <td>No</td>\n",
       "      <td>No</td>\n",
       "      <td>...</td>\n",
       "      <td>No</td>\n",
       "      <td>No</td>\n",
       "      <td>TreesCount Staff</td>\n",
       "      <td>1027431.148</td>\n",
       "      <td>202756.7687</td>\n",
       "      <td>Forest Hills</td>\n",
       "      <td>11375</td>\n",
       "      <td>1114.0</td>\n",
       "      <td>13781.0</td>\n",
       "      <td>113</td>\n",
       "    </tr>\n",
       "    <tr>\n",
       "      <th>1</th>\n",
       "      <td>147-074 7 AVENUE</td>\n",
       "      <td>4.044750e+09</td>\n",
       "      <td>4101931.0</td>\n",
       "      <td>315986</td>\n",
       "      <td>4097300</td>\n",
       "      <td>4</td>\n",
       "      <td>Queens</td>\n",
       "      <td>No</td>\n",
       "      <td>No</td>\n",
       "      <td>No</td>\n",
       "      <td>...</td>\n",
       "      <td>No</td>\n",
       "      <td>No</td>\n",
       "      <td>TreesCount Staff</td>\n",
       "      <td>1034455.701</td>\n",
       "      <td>228644.8374</td>\n",
       "      <td>Whitestone</td>\n",
       "      <td>11357</td>\n",
       "      <td>724.0</td>\n",
       "      <td>13781.0</td>\n",
       "      <td>113</td>\n",
       "    </tr>\n",
       "    <tr>\n",
       "      <th>2</th>\n",
       "      <td>390 MORGAN AVENUE</td>\n",
       "      <td>3.028870e+09</td>\n",
       "      <td>3338310.0</td>\n",
       "      <td>218365</td>\n",
       "      <td>3044900</td>\n",
       "      <td>3</td>\n",
       "      <td>Brooklyn</td>\n",
       "      <td>No</td>\n",
       "      <td>No</td>\n",
       "      <td>No</td>\n",
       "      <td>...</td>\n",
       "      <td>No</td>\n",
       "      <td>No</td>\n",
       "      <td>Volunteer</td>\n",
       "      <td>1001822.831</td>\n",
       "      <td>200716.8913</td>\n",
       "      <td>Brooklyn</td>\n",
       "      <td>11211</td>\n",
       "      <td>1094.0</td>\n",
       "      <td>29571.0</td>\n",
       "      <td>112</td>\n",
       "    </tr>\n",
       "    <tr>\n",
       "      <th>3</th>\n",
       "      <td>1027 GRAND STREET</td>\n",
       "      <td>3.029250e+09</td>\n",
       "      <td>3338342.0</td>\n",
       "      <td>217969</td>\n",
       "      <td>3044900</td>\n",
       "      <td>3</td>\n",
       "      <td>Brooklyn</td>\n",
       "      <td>No</td>\n",
       "      <td>No</td>\n",
       "      <td>No</td>\n",
       "      <td>...</td>\n",
       "      <td>No</td>\n",
       "      <td>No</td>\n",
       "      <td>Volunteer</td>\n",
       "      <td>1002420.358</td>\n",
       "      <td>199244.2531</td>\n",
       "      <td>Brooklyn</td>\n",
       "      <td>11211</td>\n",
       "      <td>1094.0</td>\n",
       "      <td>29571.0</td>\n",
       "      <td>112</td>\n",
       "    </tr>\n",
       "    <tr>\n",
       "      <th>4</th>\n",
       "      <td>603 6 STREET</td>\n",
       "      <td>3.010850e+09</td>\n",
       "      <td>3025654.0</td>\n",
       "      <td>223043</td>\n",
       "      <td>3016500</td>\n",
       "      <td>3</td>\n",
       "      <td>Brooklyn</td>\n",
       "      <td>No</td>\n",
       "      <td>No</td>\n",
       "      <td>No</td>\n",
       "      <td>...</td>\n",
       "      <td>No</td>\n",
       "      <td>No</td>\n",
       "      <td>Volunteer</td>\n",
       "      <td>990913.775</td>\n",
       "      <td>182202.4260</td>\n",
       "      <td>Brooklyn</td>\n",
       "      <td>11215</td>\n",
       "      <td>2036.0</td>\n",
       "      <td>29571.0</td>\n",
       "      <td>112</td>\n",
       "    </tr>\n",
       "  </tbody>\n",
       "</table>\n",
       "<p>5 rows × 48 columns</p>\n",
       "</div>"
      ],
      "text/plain": [
       "             address           bbl        bin  block_id  boro_ct  borocode  \\\n",
       "0  108-005 70 AVENUE  4.022210e+09  4052307.0    348711  4073900         4   \n",
       "1   147-074 7 AVENUE  4.044750e+09  4101931.0    315986  4097300         4   \n",
       "2  390 MORGAN AVENUE  3.028870e+09  3338310.0    218365  3044900         3   \n",
       "3  1027 GRAND STREET  3.029250e+09  3338342.0    217969  3044900         3   \n",
       "4       603 6 STREET  3.010850e+09  3025654.0    223043  3016500         3   \n",
       "\n",
       "   boroname brch_light brch_other brch_shoe  ...  trnk_other  trunk_wire  \\\n",
       "0    Queens         No         No        No  ...          No          No   \n",
       "1    Queens         No         No        No  ...          No          No   \n",
       "2  Brooklyn         No         No        No  ...          No          No   \n",
       "3  Brooklyn         No         No        No  ...          No          No   \n",
       "4  Brooklyn         No         No        No  ...          No          No   \n",
       "\n",
       "          user_type         x_sp         y_sp      zip_city zipcode  \\\n",
       "0  TreesCount Staff  1027431.148  202756.7687  Forest Hills   11375   \n",
       "1  TreesCount Staff  1034455.701  228644.8374    Whitestone   11357   \n",
       "2         Volunteer  1001822.831  200716.8913      Brooklyn   11211   \n",
       "3         Volunteer  1002420.358  199244.2531      Brooklyn   11211   \n",
       "4         Volunteer   990913.775  182202.4260      Brooklyn   11215   \n",
       "\n",
       "  dogs_near_tree  dogs_in_zip_clusters  truncated_zip  \n",
       "0         1114.0               13781.0            113  \n",
       "1          724.0               13781.0            113  \n",
       "2         1094.0               29571.0            112  \n",
       "3         1094.0               29571.0            112  \n",
       "4         2036.0               29571.0            112  \n",
       "\n",
       "[5 rows x 48 columns]"
      ]
     },
     "execution_count": 89,
     "metadata": {},
     "output_type": "execute_result"
    }
   ],
   "source": [
    "tree_df.head()"
   ]
  },
  {
   "cell_type": "markdown",
   "metadata": {},
   "source": [
    "### Check for missing values, keep in mind for later"
   ]
  },
  {
   "cell_type": "code",
   "execution_count": 90,
   "metadata": {},
   "outputs": [
    {
     "data": {
      "text/plain": [
       "1297"
      ]
     },
     "execution_count": 90,
     "metadata": {},
     "output_type": "execute_result"
    }
   ],
   "source": [
    "tree_df.dogs_near_tree.isna().sum()"
   ]
  },
  {
   "cell_type": "code",
   "execution_count": 91,
   "metadata": {},
   "outputs": [
    {
     "data": {
      "text/plain": [
       "31616"
      ]
     },
     "execution_count": 91,
     "metadata": {},
     "output_type": "execute_result"
    }
   ],
   "source": [
    "tree_df.health.isna().sum()"
   ]
  },
  {
   "cell_type": "markdown",
   "metadata": {},
   "source": [
    "### Feature Selection"
   ]
  },
  {
   "cell_type": "markdown",
   "metadata": {},
   "source": [
    "Since we are interested in impact of dogs on trees, features selection was determined by qualities that would change how a dog would interact with a tree, such as if there are tree railings obstructing it, and how big the trees are, and where on the curb they are located."
   ]
  },
  {
   "cell_type": "code",
   "execution_count": 92,
   "metadata": {},
   "outputs": [],
   "source": [
    "features = ['zipcode', 'dogs_near_tree', 'stump_diam', 'tree_dbh', 'guards', 'curb_loc', 'health']"
   ]
  },
  {
   "cell_type": "code",
   "execution_count": 95,
   "metadata": {},
   "outputs": [],
   "source": [
    "condensed_df = tree_df[features]"
   ]
  },
  {
   "cell_type": "code",
   "execution_count": 96,
   "metadata": {},
   "outputs": [
    {
     "data": {
      "text/html": [
       "<div>\n",
       "<style scoped>\n",
       "    .dataframe tbody tr th:only-of-type {\n",
       "        vertical-align: middle;\n",
       "    }\n",
       "\n",
       "    .dataframe tbody tr th {\n",
       "        vertical-align: top;\n",
       "    }\n",
       "\n",
       "    .dataframe thead th {\n",
       "        text-align: right;\n",
       "    }\n",
       "</style>\n",
       "<table border=\"1\" class=\"dataframe\">\n",
       "  <thead>\n",
       "    <tr style=\"text-align: right;\">\n",
       "      <th></th>\n",
       "      <th>zipcode</th>\n",
       "      <th>dogs_near_tree</th>\n",
       "      <th>stump_diam</th>\n",
       "      <th>tree_dbh</th>\n",
       "      <th>guards</th>\n",
       "      <th>curb_loc</th>\n",
       "      <th>health</th>\n",
       "    </tr>\n",
       "  </thead>\n",
       "  <tbody>\n",
       "    <tr>\n",
       "      <th>0</th>\n",
       "      <td>11375</td>\n",
       "      <td>1114.0</td>\n",
       "      <td>0</td>\n",
       "      <td>3</td>\n",
       "      <td>None</td>\n",
       "      <td>OnCurb</td>\n",
       "      <td>Fair</td>\n",
       "    </tr>\n",
       "    <tr>\n",
       "      <th>1</th>\n",
       "      <td>11357</td>\n",
       "      <td>724.0</td>\n",
       "      <td>0</td>\n",
       "      <td>21</td>\n",
       "      <td>None</td>\n",
       "      <td>OnCurb</td>\n",
       "      <td>Fair</td>\n",
       "    </tr>\n",
       "    <tr>\n",
       "      <th>2</th>\n",
       "      <td>11211</td>\n",
       "      <td>1094.0</td>\n",
       "      <td>0</td>\n",
       "      <td>3</td>\n",
       "      <td>None</td>\n",
       "      <td>OnCurb</td>\n",
       "      <td>Good</td>\n",
       "    </tr>\n",
       "    <tr>\n",
       "      <th>3</th>\n",
       "      <td>11211</td>\n",
       "      <td>1094.0</td>\n",
       "      <td>0</td>\n",
       "      <td>10</td>\n",
       "      <td>None</td>\n",
       "      <td>OnCurb</td>\n",
       "      <td>Good</td>\n",
       "    </tr>\n",
       "    <tr>\n",
       "      <th>4</th>\n",
       "      <td>11215</td>\n",
       "      <td>2036.0</td>\n",
       "      <td>0</td>\n",
       "      <td>21</td>\n",
       "      <td>None</td>\n",
       "      <td>OnCurb</td>\n",
       "      <td>Good</td>\n",
       "    </tr>\n",
       "  </tbody>\n",
       "</table>\n",
       "</div>"
      ],
      "text/plain": [
       "   zipcode  dogs_near_tree  stump_diam  tree_dbh guards curb_loc health\n",
       "0    11375          1114.0           0         3   None   OnCurb   Fair\n",
       "1    11357           724.0           0        21   None   OnCurb   Fair\n",
       "2    11211          1094.0           0         3   None   OnCurb   Good\n",
       "3    11211          1094.0           0        10   None   OnCurb   Good\n",
       "4    11215          2036.0           0        21   None   OnCurb   Good"
      ]
     },
     "execution_count": 96,
     "metadata": {},
     "output_type": "execute_result"
    }
   ],
   "source": [
    "condensed_df.head()"
   ]
  },
  {
   "cell_type": "code",
   "execution_count": 104,
   "metadata": {},
   "outputs": [
    {
     "name": "stderr",
     "output_type": "stream",
     "text": [
      "/anaconda3/envs/dsi/lib/python3.6/site-packages/pandas/core/generic.py:6130: SettingWithCopyWarning: \n",
      "A value is trying to be set on a copy of a slice from a DataFrame\n",
      "\n",
      "See the caveats in the documentation: http://pandas.pydata.org/pandas-docs/stable/indexing.html#indexing-view-versus-copy\n",
      "  self._update_inplace(new_data)\n"
     ]
    }
   ],
   "source": [
    "condensed_df.health.fillna(\"Dead\",inplace=True)"
   ]
  },
  {
   "cell_type": "code",
   "execution_count": 260,
   "metadata": {},
   "outputs": [
    {
     "data": {
      "text/plain": [
       "Good    527716\n",
       "Fair     96398\n",
       "Dead     31594\n",
       "Poor     26783\n",
       "Name: health, dtype: int64"
      ]
     },
     "execution_count": 260,
     "metadata": {},
     "output_type": "execute_result"
    }
   ],
   "source": [
    "condensed_df.health.value_counts()"
   ]
  },
  {
   "cell_type": "markdown",
   "metadata": {},
   "source": [
    "Factorize the health values"
   ]
  },
  {
   "cell_type": "code",
   "execution_count": 106,
   "metadata": {},
   "outputs": [],
   "source": [
    "lookup = {\"Dead\" : 0,\n",
    "          \"Poor\" : 1,\n",
    "          \"Fair\" : 2,\n",
    "          \"Good\" : 3}"
   ]
  },
  {
   "cell_type": "code",
   "execution_count": 107,
   "metadata": {},
   "outputs": [],
   "source": [
    "health_series = condensed_df.health.map(lookup)"
   ]
  },
  {
   "cell_type": "code",
   "execution_count": 108,
   "metadata": {},
   "outputs": [
    {
     "data": {
      "text/plain": [
       "<matplotlib.axes._subplots.AxesSubplot at 0x1216fe470>"
      ]
     },
     "execution_count": 108,
     "metadata": {},
     "output_type": "execute_result"
    },
    {
     "data": {
      "image/png": "[encoded data removed]",
      "text/plain": [
       "<Figure size 432x288 with 1 Axes>"
      ]
     },
     "metadata": {},
     "output_type": "display_data"
    }
   ],
   "source": [
    "sns.scatterplot(condensed_df.dogs_near_tree,health_series)"
   ]
  },
  {
   "cell_type": "code",
   "execution_count": 109,
   "metadata": {},
   "outputs": [
    {
     "name": "stderr",
     "output_type": "stream",
     "text": [
      "/anaconda3/envs/dsi/lib/python3.6/site-packages/ipykernel_launcher.py:1: SettingWithCopyWarning: \n",
      "A value is trying to be set on a copy of a slice from a DataFrame.\n",
      "Try using .loc[row_indexer,col_indexer] = value instead\n",
      "\n",
      "See the caveats in the documentation: http://pandas.pydata.org/pandas-docs/stable/indexing.html#indexing-view-versus-copy\n",
      "  \"\"\"Entry point for launching an IPython kernel.\n"
     ]
    }
   ],
   "source": [
    "condensed_df[\"factorized_health\"] = health_series"
   ]
  },
  {
   "cell_type": "code",
   "execution_count": 110,
   "metadata": {},
   "outputs": [
    {
     "data": {
      "text/html": [
       "<div>\n",
       "<style scoped>\n",
       "    .dataframe tbody tr th:only-of-type {\n",
       "        vertical-align: middle;\n",
       "    }\n",
       "\n",
       "    .dataframe tbody tr th {\n",
       "        vertical-align: top;\n",
       "    }\n",
       "\n",
       "    .dataframe thead th {\n",
       "        text-align: right;\n",
       "    }\n",
       "</style>\n",
       "<table border=\"1\" class=\"dataframe\">\n",
       "  <thead>\n",
       "    <tr style=\"text-align: right;\">\n",
       "      <th></th>\n",
       "      <th>zipcode</th>\n",
       "      <th>dogs_near_tree</th>\n",
       "      <th>stump_diam</th>\n",
       "      <th>tree_dbh</th>\n",
       "      <th>guards</th>\n",
       "      <th>curb_loc</th>\n",
       "      <th>health</th>\n",
       "      <th>factorized_health</th>\n",
       "    </tr>\n",
       "  </thead>\n",
       "  <tbody>\n",
       "    <tr>\n",
       "      <th>0</th>\n",
       "      <td>11375</td>\n",
       "      <td>1114.0</td>\n",
       "      <td>0</td>\n",
       "      <td>3</td>\n",
       "      <td>None</td>\n",
       "      <td>OnCurb</td>\n",
       "      <td>Fair</td>\n",
       "      <td>2</td>\n",
       "    </tr>\n",
       "    <tr>\n",
       "      <th>1</th>\n",
       "      <td>11357</td>\n",
       "      <td>724.0</td>\n",
       "      <td>0</td>\n",
       "      <td>21</td>\n",
       "      <td>None</td>\n",
       "      <td>OnCurb</td>\n",
       "      <td>Fair</td>\n",
       "      <td>2</td>\n",
       "    </tr>\n",
       "    <tr>\n",
       "      <th>2</th>\n",
       "      <td>11211</td>\n",
       "      <td>1094.0</td>\n",
       "      <td>0</td>\n",
       "      <td>3</td>\n",
       "      <td>None</td>\n",
       "      <td>OnCurb</td>\n",
       "      <td>Good</td>\n",
       "      <td>3</td>\n",
       "    </tr>\n",
       "    <tr>\n",
       "      <th>3</th>\n",
       "      <td>11211</td>\n",
       "      <td>1094.0</td>\n",
       "      <td>0</td>\n",
       "      <td>10</td>\n",
       "      <td>None</td>\n",
       "      <td>OnCurb</td>\n",
       "      <td>Good</td>\n",
       "      <td>3</td>\n",
       "    </tr>\n",
       "    <tr>\n",
       "      <th>4</th>\n",
       "      <td>11215</td>\n",
       "      <td>2036.0</td>\n",
       "      <td>0</td>\n",
       "      <td>21</td>\n",
       "      <td>None</td>\n",
       "      <td>OnCurb</td>\n",
       "      <td>Good</td>\n",
       "      <td>3</td>\n",
       "    </tr>\n",
       "  </tbody>\n",
       "</table>\n",
       "</div>"
      ],
      "text/plain": [
       "   zipcode  dogs_near_tree  stump_diam  tree_dbh guards curb_loc health  \\\n",
       "0    11375          1114.0           0         3   None   OnCurb   Fair   \n",
       "1    11357           724.0           0        21   None   OnCurb   Fair   \n",
       "2    11211          1094.0           0         3   None   OnCurb   Good   \n",
       "3    11211          1094.0           0        10   None   OnCurb   Good   \n",
       "4    11215          2036.0           0        21   None   OnCurb   Good   \n",
       "\n",
       "   factorized_health  \n",
       "0                  2  \n",
       "1                  2  \n",
       "2                  3  \n",
       "3                  3  \n",
       "4                  3  "
      ]
     },
     "execution_count": 110,
     "metadata": {},
     "output_type": "execute_result"
    }
   ],
   "source": [
    "condensed_df.head()"
   ]
  },
  {
   "cell_type": "code",
   "execution_count": 113,
   "metadata": {},
   "outputs": [],
   "source": [
    "grouped_df = condensed_df.groupby(\"zipcode\").mean()"
   ]
  },
  {
   "cell_type": "code",
   "execution_count": 116,
   "metadata": {},
   "outputs": [
    {
     "data": {
      "image/png": "[encoded data removed]",
      "text/plain": [
       "<Figure size 1152x648 with 1 Axes>"
      ]
     },
     "metadata": {},
     "output_type": "display_data"
    }
   ],
   "source": [
    "plt.figure(figsize=(16,9))\n",
    "sns.scatterplot(grouped_df[\"dogs_near_tree\"], grouped_df.factorized_health)\n"
   ]
  },
  {
   "cell_type": "markdown",
   "metadata": {},
   "source": [
    "This scatterplot would actually suggest there just is almost no relation between number of dog licenses in a zip code and the \"average\" health of trees within that zipcode!"
   ]
  },
  {
   "cell_type": "markdown",
   "metadata": {},
   "source": [
    "## Other Avenues"
   ]
  },
  {
   "cell_type": "markdown",
   "metadata": {},
   "source": [
    "Two of these columns are essentially one column split into two, as one has measurements for stumped trees and the other has measurements for alive trees."
   ]
  },
  {
   "cell_type": "code",
   "execution_count": 169,
   "metadata": {},
   "outputs": [
    {
     "name": "stderr",
     "output_type": "stream",
     "text": [
      "/anaconda3/envs/dsi/lib/python3.6/site-packages/ipykernel_launcher.py:1: SettingWithCopyWarning: \n",
      "A value is trying to be set on a copy of a slice from a DataFrame.\n",
      "Try using .loc[row_indexer,col_indexer] = value instead\n",
      "\n",
      "See the caveats in the documentation: http://pandas.pydata.org/pandas-docs/stable/indexing.html#indexing-view-versus-copy\n",
      "  \"\"\"Entry point for launching an IPython kernel.\n"
     ]
    }
   ],
   "source": [
    "condensed_df[\"combined_diam\"] = [stump if stump != 0 else dbh for stump,dbh in zip(condensed_df[\"stump_diam\"],condensed_df[\"tree_dbh\"])]"
   ]
  },
  {
   "cell_type": "code",
   "execution_count": 172,
   "metadata": {},
   "outputs": [
    {
     "name": "stderr",
     "output_type": "stream",
     "text": [
      "/anaconda3/envs/dsi/lib/python3.6/site-packages/pandas/core/frame.py:3940: SettingWithCopyWarning: \n",
      "A value is trying to be set on a copy of a slice from a DataFrame\n",
      "\n",
      "See the caveats in the documentation: http://pandas.pydata.org/pandas-docs/stable/indexing.html#indexing-view-versus-copy\n",
      "  errors=errors)\n"
     ]
    }
   ],
   "source": [
    "condensed_df.drop(columns=[\"stump_diam\",\"tree_dbh\"],inplace=True)"
   ]
  },
  {
   "cell_type": "code",
   "execution_count": 173,
   "metadata": {},
   "outputs": [
    {
     "data": {
      "text/html": [
       "<div>\n",
       "<style scoped>\n",
       "    .dataframe tbody tr th:only-of-type {\n",
       "        vertical-align: middle;\n",
       "    }\n",
       "\n",
       "    .dataframe tbody tr th {\n",
       "        vertical-align: top;\n",
       "    }\n",
       "\n",
       "    .dataframe thead th {\n",
       "        text-align: right;\n",
       "    }\n",
       "</style>\n",
       "<table border=\"1\" class=\"dataframe\">\n",
       "  <thead>\n",
       "    <tr style=\"text-align: right;\">\n",
       "      <th></th>\n",
       "      <th>zipcode</th>\n",
       "      <th>dogs_near_tree</th>\n",
       "      <th>guards</th>\n",
       "      <th>curb_loc</th>\n",
       "      <th>health</th>\n",
       "      <th>factorized_health</th>\n",
       "      <th>combined_diam</th>\n",
       "    </tr>\n",
       "  </thead>\n",
       "  <tbody>\n",
       "    <tr>\n",
       "      <th>0</th>\n",
       "      <td>11375</td>\n",
       "      <td>1114.0</td>\n",
       "      <td>None</td>\n",
       "      <td>OnCurb</td>\n",
       "      <td>Fair</td>\n",
       "      <td>2</td>\n",
       "      <td>3</td>\n",
       "    </tr>\n",
       "    <tr>\n",
       "      <th>1</th>\n",
       "      <td>11357</td>\n",
       "      <td>724.0</td>\n",
       "      <td>None</td>\n",
       "      <td>OnCurb</td>\n",
       "      <td>Fair</td>\n",
       "      <td>2</td>\n",
       "      <td>21</td>\n",
       "    </tr>\n",
       "    <tr>\n",
       "      <th>2</th>\n",
       "      <td>11211</td>\n",
       "      <td>1094.0</td>\n",
       "      <td>None</td>\n",
       "      <td>OnCurb</td>\n",
       "      <td>Good</td>\n",
       "      <td>3</td>\n",
       "      <td>3</td>\n",
       "    </tr>\n",
       "    <tr>\n",
       "      <th>3</th>\n",
       "      <td>11211</td>\n",
       "      <td>1094.0</td>\n",
       "      <td>None</td>\n",
       "      <td>OnCurb</td>\n",
       "      <td>Good</td>\n",
       "      <td>3</td>\n",
       "      <td>10</td>\n",
       "    </tr>\n",
       "    <tr>\n",
       "      <th>4</th>\n",
       "      <td>11215</td>\n",
       "      <td>2036.0</td>\n",
       "      <td>None</td>\n",
       "      <td>OnCurb</td>\n",
       "      <td>Good</td>\n",
       "      <td>3</td>\n",
       "      <td>21</td>\n",
       "    </tr>\n",
       "  </tbody>\n",
       "</table>\n",
       "</div>"
      ],
      "text/plain": [
       "   zipcode  dogs_near_tree guards curb_loc health  factorized_health  \\\n",
       "0    11375          1114.0   None   OnCurb   Fair                  2   \n",
       "1    11357           724.0   None   OnCurb   Fair                  2   \n",
       "2    11211          1094.0   None   OnCurb   Good                  3   \n",
       "3    11211          1094.0   None   OnCurb   Good                  3   \n",
       "4    11215          2036.0   None   OnCurb   Good                  3   \n",
       "\n",
       "   combined_diam  \n",
       "0              3  \n",
       "1             21  \n",
       "2              3  \n",
       "3             10  \n",
       "4             21  "
      ]
     },
     "execution_count": 173,
     "metadata": {},
     "output_type": "execute_result"
    }
   ],
   "source": [
    "condensed_df.head()"
   ]
  },
  {
   "cell_type": "markdown",
   "metadata": {},
   "source": [
    "Define our features"
   ]
  },
  {
   "cell_type": "code",
   "execution_count": 177,
   "metadata": {},
   "outputs": [],
   "source": [
    "features = [col for col in condensed_df.columns if col != \"zipcode\" and col != \"factorized_health\"]"
   ]
  },
  {
   "cell_type": "code",
   "execution_count": 178,
   "metadata": {},
   "outputs": [
    {
     "data": {
      "text/plain": [
       "['dogs_near_tree', 'guards', 'curb_loc', 'health', 'combined_diam']"
      ]
     },
     "execution_count": 178,
     "metadata": {},
     "output_type": "execute_result"
    }
   ],
   "source": [
    "features"
   ]
  },
  {
   "cell_type": "code",
   "execution_count": 204,
   "metadata": {},
   "outputs": [
    {
     "name": "stderr",
     "output_type": "stream",
     "text": [
      "/anaconda3/envs/dsi/lib/python3.6/site-packages/ipykernel_launcher.py:1: SettingWithCopyWarning: \n",
      "A value is trying to be set on a copy of a slice from a DataFrame\n",
      "\n",
      "See the caveats in the documentation: http://pandas.pydata.org/pandas-docs/stable/indexing.html#indexing-view-versus-copy\n",
      "  \"\"\"Entry point for launching an IPython kernel.\n"
     ]
    }
   ],
   "source": [
    "condensed_df.dropna(subset=[\"dogs_near_tree\"],inplace=True)"
   ]
  },
  {
   "cell_type": "markdown",
   "metadata": {},
   "source": [
    "## Train test split"
   ]
  },
  {
   "cell_type": "code",
   "execution_count": 205,
   "metadata": {},
   "outputs": [],
   "source": [
    "X = condensed_df[features]\n",
    "y = condensed_df[\"factorized_health\"]"
   ]
  },
  {
   "cell_type": "code",
   "execution_count": 213,
   "metadata": {},
   "outputs": [],
   "source": [
    "logclf = LogisticRegression()"
   ]
  },
  {
   "cell_type": "code",
   "execution_count": 244,
   "metadata": {},
   "outputs": [],
   "source": [
    "X_train, X_test, y_train, y_test = train_test_split(X,\n",
    "                                                    y,\n",
    "                                                    stratify=y,\n",
    "                                                    random_state=42)"
   ]
  },
  {
   "cell_type": "markdown",
   "metadata": {},
   "source": [
    "### Preproccessing"
   ]
  },
  {
   "cell_type": "markdown",
   "metadata": {},
   "source": [
    "Separate numerical columns, scale them, then recombine, then dummy."
   ]
  },
  {
   "cell_type": "code",
   "execution_count": 246,
   "metadata": {},
   "outputs": [],
   "source": [
    "X_num = X_train[[\"dogs_near_tree\",\"combined_diam\"]]\n",
    "text_features = [col for col in features if col != \"dogs_near_tree\" and col != \"combined_diam\"]\n",
    "X_textual = X_train[text_features]"
   ]
  },
  {
   "cell_type": "code",
   "execution_count": 247,
   "metadata": {},
   "outputs": [
    {
     "name": "stderr",
     "output_type": "stream",
     "text": [
      "/anaconda3/envs/dsi/lib/python3.6/site-packages/sklearn/preprocessing/data.py:645: DataConversionWarning: Data with input dtype int64, float64 were all converted to float64 by StandardScaler.\n",
      "  return self.partial_fit(X, y)\n",
      "/anaconda3/envs/dsi/lib/python3.6/site-packages/ipykernel_launcher.py:3: DataConversionWarning: Data with input dtype int64, float64 were all converted to float64 by StandardScaler.\n",
      "  This is separate from the ipykernel package so we can avoid doing imports until\n"
     ]
    }
   ],
   "source": [
    "ss = StandardScaler()\n",
    "ss.fit(X_num)\n",
    "X_num_sc = ss.transform(X_num)\n",
    "X_num_sc_df = pd.DataFrame(X_num_sc, columns=[\"dogs_near_tree\",\"combined_diam\"])\n",
    "X_new = X_num_sc_df.join(X_textual)\n",
    "X_train_sc = pd.get_dummies(X_new,drop_first=True)"
   ]
  },
  {
   "cell_type": "markdown",
   "metadata": {},
   "source": [
    "## Model testing"
   ]
  },
  {
   "cell_type": "markdown",
   "metadata": {},
   "source": [
    "Fit model"
   ]
  },
  {
   "cell_type": "code",
   "execution_count": 250,
   "metadata": {},
   "outputs": [
    {
     "name": "stderr",
     "output_type": "stream",
     "text": [
      "/anaconda3/envs/dsi/lib/python3.6/site-packages/sklearn/linear_model/logistic.py:433: FutureWarning: Default solver will be changed to 'lbfgs' in 0.22. Specify a solver to silence this warning.\n",
      "  FutureWarning)\n",
      "/anaconda3/envs/dsi/lib/python3.6/site-packages/sklearn/linear_model/logistic.py:460: FutureWarning: Default multi_class will be changed to 'auto' in 0.22. Specify the multi_class option to silence this warning.\n",
      "  \"this warning.\", FutureWarning)\n"
     ]
    },
    {
     "data": {
      "text/plain": [
       "LogisticRegression(C=1.0, class_weight=None, dual=False, fit_intercept=True,\n",
       "          intercept_scaling=1, max_iter=100, multi_class='warn',\n",
       "          n_jobs=None, penalty='l2', random_state=None, solver='warn',\n",
       "          tol=0.0001, verbose=0, warm_start=False)"
      ]
     },
     "execution_count": 250,
     "metadata": {},
     "output_type": "execute_result"
    }
   ],
   "source": [
    "logclf.fit(X_train_sc,y_train)"
   ]
  },
  {
   "cell_type": "markdown",
   "metadata": {},
   "source": [
    "### Preprocess testing data"
   ]
  },
  {
   "cell_type": "code",
   "execution_count": 251,
   "metadata": {},
   "outputs": [
    {
     "name": "stderr",
     "output_type": "stream",
     "text": [
      "/anaconda3/envs/dsi/lib/python3.6/site-packages/ipykernel_launcher.py:3: DataConversionWarning: Data with input dtype int64, float64 were all converted to float64 by StandardScaler.\n",
      "  This is separate from the ipykernel package so we can avoid doing imports until\n"
     ]
    }
   ],
   "source": [
    "X_num_test = X_test[[\"dogs_near_tree\",\"combined_diam\"]]\n",
    "X_textual_test = X_test[text_features]\n",
    "X_num_sc = ss.transform(X_num_test)\n",
    "X_num_sc_df = pd.DataFrame(X_num_sc, columns=[\"dogs_near_tree\",\"combined_diam\"])\n",
    "X_new = X_num_sc_df.join(X_textual)\n",
    "X_test_sc = pd.get_dummies(X_new,drop_first=True)"
   ]
  },
  {
   "cell_type": "markdown",
   "metadata": {},
   "source": [
    "### Evaluate model"
   ]
  },
  {
   "cell_type": "code",
   "execution_count": 253,
   "metadata": {},
   "outputs": [
    {
     "data": {
      "text/plain": [
       "0.7732208303703298"
      ]
     },
     "execution_count": 253,
     "metadata": {},
     "output_type": "execute_result"
    }
   ],
   "source": [
    "logclf.score(X_train_sc,y_train)"
   ]
  },
  {
   "cell_type": "code",
   "execution_count": 254,
   "metadata": {},
   "outputs": [
    {
     "data": {
      "text/plain": [
       "0.7732193197868986"
      ]
     },
     "execution_count": 254,
     "metadata": {},
     "output_type": "execute_result"
    }
   ],
   "source": [
    "logclf.score(X_test_sc,y_test)"
   ]
  },
  {
   "cell_type": "code",
   "execution_count": 258,
   "metadata": {},
   "outputs": [
    {
     "data": {
      "text/plain": [
       "array([[-0.1076418 ,  0.00659683, -0.07517129, -0.09507889, -0.101812  ,\n",
       "         0.00780559,  0.06216789,  0.05393133,  0.11951796],\n",
       "       [ 0.02385846, -0.4105946 , -0.01010894,  0.00149848,  0.03186162,\n",
       "         0.04485388,  0.01427516, -0.02988922,  0.02847878],\n",
       "       [ 0.04575132, -0.09536782, -0.02502008, -0.03532843, -0.02763421,\n",
       "         0.00416709,  0.04002637,  0.02234577, -0.01710241],\n",
       "       [-0.01159995,  0.13820611,  0.03928845,  0.0489063 ,  0.03923978,\n",
       "        -0.01448253, -0.0475369 , -0.02367153, -0.02670856]])"
      ]
     },
     "execution_count": 258,
     "metadata": {},
     "output_type": "execute_result"
    }
   ],
   "source": [
    "logclf.coef_"
   ]
  },
  {
   "cell_type": "markdown",
   "metadata": {},
   "source": [
    "Our model is pretty biased, but also performing pretty well, but that means a lot of features used to interact with trees might be good predictors."
   ]
  }
 ],
 "metadata": {
  "kernelspec": {
   "display_name": "Python 3",
   "language": "python",
   "name": "python3"
  },
  "language_info": {
   "codemirror_mode": {
    "name": "ipython",
    "version": 3
   },
   "file_extension": ".py",
   "mimetype": "text/x-python",
   "name": "python",
   "nbconvert_exporter": "python",
   "pygments_lexer": "ipython3",
   "version": "3.6.5"
  }
 },
 "nbformat": 4,
 "nbformat_minor": 2
}
